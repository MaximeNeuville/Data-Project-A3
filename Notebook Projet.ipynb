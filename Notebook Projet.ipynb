{
 "cells": [
  {
   "cell_type": "markdown",
   "metadata": {},
   "source": [
    "<h1><center>Projet Data</center></h1>\n"
   ]
  },
  {
   "cell_type": "markdown",
   "metadata": {},
   "source": [
    "<h2>Sommaire</h2>"
   ]
  },
  {
   "cell_type": "markdown",
   "metadata": {},
   "source": [
    "1. [Introduction](#Introduction)<br>\n",
    "2. [Contexte](#Contexte)<br>\n",
    "3. [VRP : Problème du voyageur de commerce](#VRP-:-Problème-du-voyageur-de-commerce)<br>\n",
    "4. [Algorithme heuristique / metaheuristique](#Algorithme-heuristique-/-metaheuristique)<br>\n",
    "5. [Réalisation](#Réalisation)<br>\n",
    "    a. [Génération aléatoire d'un graphe](#Génération-aléatoire-d'un-graphe)<br>\n",
    "    b. [Algorithme du plus court chemin](#Algorithme-du-plus-court-chemin)<br>\n",
    "    c. [Algorithme du plus court chemin, avec deux contraintes](#Algorithme-du-plus-court-chemin,-avec-deux-contraintes)<br>\n",
    "    d. [Combinaison des deux](#Combinaison-des-deux)<br>\n",
    "    d. [Statistique](#Statistique)<br>"
   ]
  },
  {
   "cell_type": "markdown",
   "metadata": {},
   "source": [
    "<h2>Introduction</h2>"
   ]
  },
  {
   "cell_type": "markdown",
   "metadata": {},
   "source": [
    "<div style=\"text-align: justify\">\n",
    "La réduction de la consommation d'énergie est devenue un objectif important des pays énergivores vers la fin du XXe siècle. Ces pays en ont pris conscience après le <a href=\"https://fr.wikipedia.org/wiki/Premier_choc_p%C3%A9trolier\">choc pétrolier de 1973</a> qui fait référence à la pénurie de pétrole qu'ont connue les Etats Unies. Puis plus récemment, dans les années 90, avec les premières études sur le réchauffement climatique du GIEC (groupe d'experts intergouvernemental sur l'évolution du climat) qui établit une augmentation non naturelle de la température.\n",
    "<br>\n",
    "Ce n'est qu'après 6ans de travaux menés par 2500 scientifiques que le GIEC a établi la responsabilité humaine du rechauffement climatique dans son rapport intitulé \"<a href=\"https://www.ipcc.ch/site/assets/uploads/2018/02/ar4_syr_fr.pdf\">Changement climatique 2007 : Les bases scientifiques physiques\"</a>. Ce rapport explique pour la première fois que le réchauffement global de la planète est en partie du aux émissions de gaz à effet de serre qui s'est considérablement augmenté depuis le XIXe siècle et la révolution industrielle.\n",
    "<br>\n",
    "<img src=\"https://www.la-viande.fr/sites/default/files/images/environnement-ethique/atlas/chapitres/enjeux-environnementaux-coeur-pratiques-filiere/atlas-c04-p-13-emissions-de-gaz-a-effet-de-serre-par-secteur-en-france.jpg\"> \n",
    "<p style=\"text-align : center\"><i>Emission de gaz à effet de serre par secteur en France en 2014 (source : Citepa, 2014) </i></p>\n",
    "\n",
    "D'après ce graphique de Citepa, représentant les émissions de gaz à effet de serre par secteur en France en 2014, nous pouvons remarquer que le secteur du transport est le secteur émettant le plus de gaz.\n",
    "De ce fait il est question aujourd'hui de réduire l'utilisation des transports, de passer à une énergie plus \"propre\" ou encore d'optimiser la façon dont nous utilisons nos moyens de locomotion.\n",
    "\n",
    "</div>"
   ]
  },
  {
   "cell_type": "markdown",
   "metadata": {},
   "source": [
    "<h2>Contexte</h2>"
   ]
  },
  {
   "cell_type": "markdown",
   "metadata": {},
   "source": [
    "<div style=\"text-align: justify\">\n",
    "C'est dans ce contexte d'optimisation de l'utilisation de nos transports qu'intervient notre étude.\n",
    "Notre but est de générer une tournée de livraison (problème du VRP). Le problème algorithmique consiste donc à calculer sur un réseau routier une tournée permettant de relier entre elles un sous-ensemble de villes, puis de revenir à son point de départ, de manière à minimiser la distance totale parcourue. </div>\n",
    "\n",
    "3 aspects nous sont demandés :\n",
    "+ Génération aléatoire de graphique.\n",
    "+ Algorithme du plus cours chemin optimisé au problème.\n",
    "+ Statistiques descriptives, voire prédictives, du comportement de l'algorithme, mises en regard avec l’industrie.\n",
    "\n",
    "<div style=\"text-align: justify\">\n",
    "En plus d'une solution simple, c'est-à-dire plus court chemin sur x villes, nous devons choisir des contraintes au problème. </div>\n",
    "\n",
    "Nous avons retenu 2 contraintes :\n",
    "+ Gestion d'une fenêtre horaire de livraison des villes.\n",
    "+ Gestion d'une fenêtre horaire de livraison du camion.\n",
    "\n"
   ]
  },
  {
   "cell_type": "markdown",
   "metadata": {},
   "source": [
    "<h2>VRP : Problème du voyageur de commerce</h2>"
   ]
  },
  {
   "cell_type": "markdown",
   "metadata": {},
   "source": [
    "<div style=\"text-align: justify\">\n",
    "Le problème du voyageur du commerce est un problème d'optimisation qui, parmi une liste de villes et de distance entre chaque ville, va déterminer le plus court chemin.</div>"
   ]
  },
  {
   "cell_type": "markdown",
   "metadata": {},
   "source": [
    "![cps](https://media1.tenor.com/images/56a813b10c92b01290bec5296e67ef8d/tenor.gif?itemid=11966562 \"c'est pas sorcier\")"
   ]
  },
  {
   "cell_type": "markdown",
   "metadata": {},
   "source": [
    "<div style=\"text-align: justify\">\n",
    "Ce plus court chemin doit passer par chaque ville une seule fois seulement et revenir à la ville de départ.\n",
    "C'est un problème algorithmique célèbre qui est en recherche perpétuelle et qui est souvent présent en introduction à l'algorithmie car aujourd'hui on ne connaît pas d'algorithme pouvant donner une solution exacte rapidement.</div>"
   ]
  },
  {
   "cell_type": "markdown",
   "metadata": {},
   "source": [
    "> **Exemple  :** <br>\n",
    "Prenons une liste de villes A, B, C D distante entre elles suivant le schéma ci-dessous :\n",
    "![Instance](https://upload.wikimedia.org/wikipedia/commons/thumb/1/19/Tsp_instance.png/181px-Tsp_instance.png \"carte\")\n",
    "<br>\n",
    "Effectuons le chemin ABCDA.\n",
    "![Dumb](https://upload.wikimedia.org/wikipedia/commons/thumb/2/26/Tsp_solution_debile.png/185px-Tsp_solution_debile.png \"dumb solution\")\n",
    "<br>\n",
    "Le chemin ABCDA a une longueur de :\n",
    "[AB]+[BC]+[CD]+[DA] = 4+2+5+3 = 14km\n",
    "<br>\n",
    "Alors qu'il existe un chemin plus court pour partir d'A et revenir à A. Ce chemin est ACBDA.\n",
    "![opt](https://upload.wikimedia.org/wikipedia/commons/thumb/4/44/Tsp_opt.png/186px-Tsp_opt.png \"chemin optimisé\")\n",
    "<br>\n",
    "Si on calcule sa longueur nous avons donc : [AC]+[CB]+[BD]+[DA] = 3+1+2+1 = 7km \n",
    "<br>\n",
    "<br>\n",
    "Nous voyons donc ici sur un exemple très simple tout l'intérêt de l'optimisation des chemins emprunté lors d'une livraison. C'est pourquoi de nombreux algorithmes sont implémentés et beaucoup de recherches sont faites encore aujourd'hui afin de trouver l'algorithme le plus optimisé possible. \n",
    "<br>"
   ]
  },
  {
   "cell_type": "markdown",
   "metadata": {},
   "source": [
    "Nous allons donc parler de graphe et plus particulièrement de graphe complet. <br>\n",
    "Un graphe complet est un graphe dont tous les sommets (villes) sont reliés entre eux par un segment (route)."
   ]
  },
  {
   "cell_type": "markdown",
   "metadata": {},
   "source": [
    "> **Exemple :**<br>\n",
    "Exemples de graphes complets <br>\n",
    "![K2](https://upload.wikimedia.org/wikipedia/commons/thumb/9/96/Complete_graph_K2.svg/120px-Complete_graph_K2.svg.png \"K2\")\n",
    "![K3](https://upload.wikimedia.org/wikipedia/commons/thumb/5/5a/Complete_graph_K3.svg/120px-Complete_graph_K3.svg.png \"K3\")\n",
    "![K4](https://upload.wikimedia.org/wikipedia/commons/thumb/5/59/Complete_graph_K4.svg/120px-Complete_graph_K4.svg.png \"K4\")\n",
    "![K5](https://upload.wikimedia.org/wikipedia/commons/thumb/c/cf/Complete_graph_K5.svg/120px-Complete_graph_K5.svg.png \"K5\")\n",
    "![K8](https://upload.wikimedia.org/wikipedia/commons/thumb/7/73/Complete_graph_K8.svg/120px-Complete_graph_K8.svg.png \"K8\")\n",
    "![K12](https://upload.wikimedia.org/wikipedia/commons/thumb/9/9b/11-simplex_graph.svg/120px-11-simplex_graph.svg.png \"K12\")"
   ]
  },
  {
   "cell_type": "markdown",
   "metadata": {},
   "source": [
    "<h2>Algorithme heuristique / metaheuristique</h2>"
   ]
  },
  {
   "cell_type": "markdown",
   "metadata": {},
   "source": [
    "Un algorithme heuristique est un algorithme utilisant une méthode de calcul qui fournit rapidement une solution réalisable mais pas forcément optimale ou exacte pour un problème de compléxité difficile.\n",
    "\n",
    "> **Exemple :** Méthode de Thomson, méthode de Van Breedam, Méthode de Kinderwater...\n",
    "\n",
    "![heuristic](https://optimization.mccormick.northwestern.edu/images/2/23/Nearestneighbor.gif \"heuristic\")\n",
    "<br>\n",
    "Voici comment fonctionne un algorithme heuristic. Il va essayer toutes les routes en partant du point de départ jusqu'à trouver un chemin le plus court. Il va prendre les arètes les plus courtes à chaque fois, même si cela pourrait lui allonger le chemin final.\n",
    "\n",
    "Pour ajouter ce côté intelligent aux algorithmes pour qu'ils choisissent le chemin le plus optimisé, les métaheuristiques existent.\n",
    "\n",
    "Un algorithme métaheuristique est un algorithme itératif qui guide un algorithme heuristique. Des stratégies d’apprentissage sont utilisées pour structurer des renseignements pour trouver des solutions efficaces presque optimales.\n",
    "\n",
    "> **Exemple :** Algorithme de recuit simulé, algorithme 2-opt, algorithme de la colonie de fourmilles...\n",
    "\n",
    "![metaheuristic](https://raw.githubusercontent.com/JeromeBau/TravelingTouristProblem/master/ttp_animation.gif \"metaheuristic\")\n",
    "<br>\n",
    "Voici le fonctionnement d'un algorithme métaheuristique, il ne va pas prendre la route la moins longue à chaque fois, il va faire en sorte d'optimiser le trajet pour que la somme totale de la longueur du chemin à la fin soit la moins haute possible."
   ]
  },
  {
   "cell_type": "markdown",
   "metadata": {},
   "source": [
    "<h2>Réalisation</h2>"
   ]
  },
  {
   "cell_type": "markdown",
   "metadata": {},
   "source": [
    "<h3>Génération aléatoire d'un graphe</h3>"
   ]
  },
  {
   "cell_type": "markdown",
   "metadata": {},
   "source": [
    "Le but de ce problème est d'avoir un algorithme traitant le problème du vrp pour n'importe quel graphe complet. Nous avons donc développer un outil permettant de générer une matrice, nous permettant de représenter ce graphe."
   ]
  },
  {
   "cell_type": "code",
   "execution_count": 1,
   "metadata": {},
   "outputs": [
    {
     "name": "stdout",
     "output_type": "stream",
     "text": [
      "[[ 0 11 13 12]\n",
      " [11  0 17  7]\n",
      " [13 17  0 12]\n",
      " [12  7 12  0]]\n"
     ]
    }
   ],
   "source": [
    "import numpy as np\n",
    "import random\n",
    "\n",
    "def random_symmetric_matrix(n):\n",
    "    n = int(n)\n",
    "    maxTime = 12 #pondération maximale entre 2 villes\n",
    "\n",
    "    cost_mat = np.random.randint(low=1, high=maxTime, size=(n, n)) #Création et remplissage moitié de la matrice\n",
    "    cost_mat += cost_mat.T #Remplissage de l'autre moitié\n",
    "    np.fill_diagonal(cost_mat, 0) # Diagonale à 0\n",
    "    return cost_mat\n",
    "\n",
    "n=4 # Nombre de ville\n",
    "cost_mat = random_symmetric_matrix(n)\n",
    "print(cost_mat)"
   ]
  },
  {
   "cell_type": "markdown",
   "metadata": {},
   "source": [
    "Si on représente sous forme graphique la matrice ci dessus voici ce que ça donne :"
   ]
  },
  {
   "cell_type": "code",
   "execution_count": 3,
   "metadata": {
    "scrolled": true
   },
   "outputs": [
    {
     "data": {
      "text/plain": [
       "(-1.1434636565437726,\n",
       " 1.143463656543773,\n",
       " -1.1669224413403514,\n",
       " 1.166922441340352)"
      ]
     },
     "execution_count": 3,
     "metadata": {},
     "output_type": "execute_result"
    },
    {
     "data": {
      "image/png": "[encoded data removed]",
      "text/plain": [
       "<Figure size 432x288 with 1 Axes>"
      ]
     },
     "metadata": {},
     "output_type": "display_data"
    }
   ],
   "source": [
    "import matplotlib.pyplot as plt\n",
    "import networkx as nx\n",
    "\n",
    "G = nx.Graph()\n",
    "\n",
    "G.add_edge('0', '1', time=cost_mat.item(4))\n",
    "G.add_edge('0', '2', time=cost_mat.item(8))\n",
    "G.add_edge('0', '3', time=cost_mat.item(12))\n",
    "G.add_edge('1', '2', time=cost_mat.item(9))\n",
    "G.add_edge('1', '3', time=cost_mat.item(13))\n",
    "G.add_edge('2', '3', time=cost_mat.item(14))\n",
    "\n",
    "\n",
    "pos = nx.spring_layout(G)\n",
    "\n",
    "# nodes\n",
    "nx.draw_networkx_nodes(G, pos, node_size=700)\n",
    "\n",
    "# edges\n",
    "nx.draw_networkx_edges(G, pos)\n",
    "nx.draw_networkx_edge_labels(G, pos)\n",
    "\n",
    "# labels\n",
    "nx.draw_networkx_labels(G, pos)\n",
    "\n",
    "plt.axis('off')"
   ]
  },
  {
   "cell_type": "markdown",
   "metadata": {},
   "source": [
    "Nous avons donc un graphe de 4 sommets et 6 arêtes pondérées."
   ]
  },
  {
   "cell_type": "markdown",
   "metadata": {},
   "source": [
    "<h3>Algorithme du plus court chemin</h3>"
   ]
  },
  {
   "cell_type": "markdown",
   "metadata": {},
   "source": [
    "Nous sommes partis dans un premier temps sur un algorithme 2-OPT puisqu'après beaucoup de recherches et comparaison d'algorithmes nous avons trouvé ces tableaux regroupant dans un premier temps poids total trouver pour parcourir le nombre de ville indiqué et dans un second temps le temps d'exécution des algorithmes.<br>"
   ]
  },
  {
   "cell_type": "markdown",
   "metadata": {},
   "source": [
    "![Comparaison](https://imagizer.imageshack.com/img921/9110/tnDS0r.png \"Comparaison\")"
   ]
  },
  {
   "cell_type": "markdown",
   "metadata": {},
   "source": [
    "<h4>Comment fonctionne cet algorithme et à quoi sert-il (2-OPT)?</h4>\n",
    "<br>"
   ]
  },
  {
   "cell_type": "markdown",
   "metadata": {},
   "source": [
    "<br>\n",
    "Tout d'abord, cet algorithme peut fonctionner seulement sur les graphes complets. C'est un algorithme d'optimisation d'un chemin existant. Donc il faut lui donner un chemin où il va ensuite optimiser à chaque itération en décroisant les chemins comme on peut le voir sur l'image ci-après."
   ]
  },
  {
   "cell_type": "markdown",
   "metadata": {},
   "source": [
    "![Uncross](https://upload.wikimedia.org/wikipedia/commons/thumb/b/b8/2-opt_wiki.svg/800px-2-opt_wiki.svg.png \"Uncross\")"
   ]
  },
  {
   "cell_type": "markdown",
   "metadata": {},
   "source": [
    "Il va essayer toutes les combinaisons possibles pour échanger deux arêtes comme on peut le voir sur l'image ci-dessus. C'est pourquoi il peut être long parfois. Donc, il échange deux arêtes, recalcule le poids total et vérifie s'il a augmenté ou diminué. \n",
    "<br>\n",
    "Nous avons pensé que le 2-OPT était une bonne option pour résoudre le problème posé pour ce projet.\n",
    "Cependant, après plusieurs tests sur des petits nombres de villes, la précision de cet algorithme ne semblait pas optimale et ne semblait pas répondre correctement à nos souhaits.\n",
    "<br>\n",
    "Pour avoir une meilleure précision et polyvalence entre petit nombre de villes et grand nombre, nous avons choisi, toujours en se référant au tableau ci-dessus et à d'autres recherches, d'implémenter un recuit simulé. De plus, cela nous ouvrait la possibilité de faire des statistiques comparatives des deux algorithmes concernant leur temps d'exécution, le poids qu'ils trouvent pour une même matrice donnée et d'autres statistiques qui seront décrites plus bas dans la partie correspondante.\n",
    "<br> "
   ]
  },
  {
   "cell_type": "markdown",
   "metadata": {},
   "source": [
    "<h4>Comment fonctionne cet algorithme et à quoi sert-il (Recuit Simulé) ?</h4>"
   ]
  },
  {
   "attachments": {},
   "cell_type": "markdown",
   "metadata": {},
   "source": [
    "<br>\n",
    "Le recuit simulé est une méthode d'optimisation qui utilise l'algorithme Métropolis-Hastings. Cette méthode s'inspire fortement de pratiques issues de la thermodynamique et plus particulièrement de la façon dont les métaux sont chauffés puis refroidis. On parle donc un cycle de chauffage, il maintient sa température puis refroidie de manière contrôlée afin de modifier les caractéristiques du métal. De la même manière on donne une température de base à notre algorithme qui va se refroidir petit à petit grâce à la variable \"cooling rate\" (refroidissement). Ces deux variables vont influer sur le nombre d'occurrences que l'algorithme fera afin d'arriver à la solution finale. Plus la température de base est élevée, plus l'algorithme effectuera des itérations, de la même manière, plus la valeur du refroidissement et basse, plus il effectuera d'itérations. Donc l'algorithme refroidis au fur et à mesure des itérations et garde en mémoire le poids le plus court qu'il aura rencontré en échangeant deux arêtes. En effet, il faut donner un chemin de base à l'algorithme afin qu'il l'optimise. Son fonctionnement est simple, il échange aléatoirement deux sommets dans le chemin et calcule le poids total afin de voir si le poids total est moins élevé ou non. Sachant que c'est un graphe complet, tous les sommets sont reliés entre eux, cette méthode est donc applicable."
   ]
  },
  {
   "cell_type": "code",
   "execution_count": 4,
   "metadata": {},
   "outputs": [
    {
     "name": "stdout",
     "output_type": "stream",
     "text": [
      "Total iterations : 69\n",
      "Temps d'execution : 0 s\n",
      "Plus court chemin :  [0, 2, 1, 3, 0]\n",
      "Temps pour parcourir le chemin : 49 h\n"
     ]
    },
    {
     "data": {
      "image/png": "[encoded data removed]",
      "text/plain": [
       "<Figure size 432x288 with 1 Axes>"
      ]
     },
     "metadata": {
      "needs_background": "light"
     },
     "output_type": "display_data"
    }
   ],
   "source": [
    "import time \n",
    "import random\n",
    "import copy\n",
    "import math\n",
    "import matplotlib.pyplot as plt\n",
    "import csv\n",
    "\n",
    "# Calculates the travel time for a given path\n",
    "def path_travel_time(path, matrix):\n",
    "    time = x = 0\n",
    "\n",
    "    for i in range(0, len(path)):\n",
    "        time = time + matrix[x][path[i]]\n",
    "        x = path[i]\n",
    "\n",
    "    return time\n",
    "\n",
    "\n",
    "# Randomly swap 2 elements\n",
    "def swap_value(path):\n",
    "    # generates 2 different random values\n",
    "    v0, v1 = random.sample(range(0, n - 1), 2)\n",
    "\n",
    "    # swap 2 values\n",
    "    temp = path[v1]\n",
    "    path[v1] = path[v0]\n",
    "    path[v0] = temp\n",
    "\n",
    "    return path\n",
    "\n",
    "# Shortest path (only one time each node)\n",
    "def simulated_annealing(matrix):\n",
    "    clock = time.clock()\n",
    "\n",
    "    # value too high = too many iterations (diversification)\n",
    "    # for big matrice, raise the temp\n",
    "    temp = 2\n",
    "\n",
    "    # intensification\n",
    "    cooling_rate = 0.01\n",
    "\n",
    "    # nb iteration\n",
    "    d = 0\n",
    "\n",
    "    # nb_city = the matrix dimensions\n",
    "    nb_city = len(matrix)\n",
    "\n",
    "    # all total time changes during the process\n",
    "    total_len_history = []\n",
    "\n",
    "    # total path\n",
    "    selected = []\n",
    "\n",
    "    # TOPRINT\n",
    "    path = []\n",
    "\n",
    "    # create an initial_route\n",
    "    for i in range(0, nb_city):\n",
    "        path.append(i)\n",
    "    path.append(0)\n",
    "\n",
    "    # Calculate timing for the first path\n",
    "    timing = path_travel_time(path, matrix)\n",
    "    total_len_history.append(timing)\n",
    "    selected.append(timing)\n",
    "\n",
    "    while temp > 1:\n",
    "\n",
    "        # randomly swap 2 cities\n",
    "        new_path = swap_value(copy.copy(path))\n",
    "\n",
    "        # Calculate the new timing\n",
    "        new_timing = path_travel_time(new_path, matrix)\n",
    "        total_len_history.append(new_timing)\n",
    "\n",
    "        # Compare both timing and new timing\n",
    "        if math.exp((timing - new_timing) / temp) >= random.uniform(0, 1):\n",
    "            timing = new_timing\n",
    "            path = new_path\n",
    "\n",
    "        selected.append(timing)\n",
    "        temp = temp * (1 - cooling_rate)\n",
    "        d = d + 1\n",
    "\n",
    "    print(\"Total iterations : %d\" % d )\n",
    "    print(\"Temps d'execution : %d s\" % (time.clock() - clock))\n",
    "    \n",
    "    print(\"Plus court chemin : \", path)\n",
    "    print(\"Temps pour parcourir le chemin : %d h\" % timing )\n",
    "    \n",
    "    plt.plot(total_len_history)\n",
    "    plt.plot(selected)\n",
    "    plt.show()\n",
    "\n",
    "simulated_annealing(cost_mat)"
   ]
  },
  {
   "cell_type": "markdown",
   "metadata": {},
   "source": [
    "La courbe bleue représente le temps total pour parcourir le chemin. La courbe orange représente le meilleur temps retenu à l'heure actuelle pour parcourir le chemin. \n",
    "<br>\n",
    "L'algorithme effectue 69 iterations dans notre cas car on a donnée un température de base de 2 et un rafraichissement de 0.01. On peut confirmer que le nombre d'itération est suffisant car on voit que l'endroit le plus bas de la courbe orange est atteint bien avant les 69 itérations. Cela signifie que l'un des meilleurs temps total pour parcourir le graphe a été trouvé. \"L'un des meilleurs\" car il ne faut pas oublier que c'est un algorithme méta-heuristique donc il trouve une approximation du meilleur résultat à chaque fois, ce n'est pas un algorithme exacte. \n",
    "<br>\n",
    "Pour des graphes plus grand, le mieux serait d'augmenter la température de départ et de diminuer le rafraichissement afin d'augmenter le nombre d'itération totale, c'est d'ailleurs ce que l'on a fait pour rendre notre algorithme polyvalent."
   ]
  },
  {
   "cell_type": "markdown",
   "metadata": {},
   "source": [
    "<h3>Algorithme du plus court chemin, avec deux contraintes</h3>"
   ]
  },
  {
   "cell_type": "markdown",
   "metadata": {},
   "source": [
    "Nous avons implémenté les deux contraintes énoncées au début de ce document, à savoir : \n",
    "+ Gestion d'une fenêtre horaire de livraison des villes.\n",
    "+ Gestion d'une fenêtre horaire de livraison du camion.\n",
    "<br> \n",
    "<br>\n",
    "Ci-dessous, la version correspondante. Pour cet algorithme nous avons modifié la température et le refroidissement afin que l'algorithme soit assez polyvalent entre grande et petite matrice. "
   ]
  },
  {
   "cell_type": "code",
   "execution_count": 5,
   "metadata": {},
   "outputs": [
    {
     "name": "stdout",
     "output_type": "stream",
     "text": [
      "Please enter the number of cities that you want : 5\n"
     ]
    },
    {
     "data": {
      "image/png": "[encoded data removed]",
      "text/plain": [
       "<Figure size 432x288 with 1 Axes>"
      ]
     },
     "metadata": {
      "needs_background": "light"
     },
     "output_type": "display_data"
    },
    {
     "name": "stdout",
     "output_type": "stream",
     "text": [
      "Simulated Annealing algorithm : \n",
      "\tTotal time : 66 hours\n",
      "\tExecution time : 1 s\n",
      "\tTotal iterations : 1945\n",
      "\tBest path : [0, 2, 1, 3, 4, 0]\n",
      "Starts at 8:00 at the node 0\n",
      "Should arrive to the node 2 at 21:00 if no rest\n",
      "\tRests between 0 and 2 for 12 hours\n",
      "\tArrives at 9:00, so he can deliver \n",
      "Starts at 9:00 at the node 2\n",
      "Should arrive to the node 1 at 23:00 if no rest\n",
      "\tRests between 2 and 1 for 12 hours\n",
      "\tArrives at 11:00, so he can deliver \n",
      "Starts at 11:00 at the node 1\n",
      "Should arrive to the node 3 at 20:00 if no rest\n",
      "\tRests at the node : 3\n",
      "\tRests 12 hours\n",
      "\tArrives at 8:00, so he can deliver \n",
      "Starts at 8:00 at the node 3\n",
      "Should arrive to the node 4 at 3:00 if no rest\n",
      "\tRests between 3 and 4 for 12 hours\n",
      "\tArrives at 15:00, so he can deliver \n",
      "Starts at 15:00 at the node 4\n",
      "Should arrive to the node 0 at 2:00 if no rest\n",
      "\tRests between 4 and 0 for 12 hours\n",
      "\tArrives at 14:00, so he can deliver \n",
      "Total time with 2 constraints : 126\n",
      "VS without constraints : 66\n"
     ]
    }
   ],
   "source": [
    "\n",
    "# Shortest path (only one time each node)\n",
    "def simulated_annealingPolyvalent(matrix):\n",
    "    start_time = time.time()\n",
    "\n",
    "    # value too high = too many iterations (diversification)\n",
    "    # for big matrice, raise the temp\n",
    "    temp = 7\n",
    "\n",
    "    # intensification\n",
    "    cooling_rate = 0.001\n",
    "\n",
    "    # nb iteration\n",
    "    d = 0\n",
    "\n",
    "    # nb_city = the matrix dimensions\n",
    "    global nb_city \n",
    "    nb_city = len(matrix)\n",
    "\n",
    "    # all total time changes during the process\n",
    "    total_len_history = []\n",
    "\n",
    "    # total path\n",
    "    selected = []\n",
    "\n",
    "    # best path TOPRINT\n",
    "    path = []\n",
    "\n",
    "    # create an initial_route\n",
    "    for i in range(0, nb_city):\n",
    "        path.append(i)\n",
    "    path.append(0)\n",
    "\n",
    "    # Calculate timing for the first path\n",
    "    timing = path_travel_time(path, matrix)\n",
    "    total_len_history.append(timing)\n",
    "    selected.append(timing)\n",
    "\n",
    "    while temp > 1:\n",
    "\n",
    "        # randomly swap 2 cities\n",
    "        new_path = swap_value(copy.copy(path))\n",
    "\n",
    "        # Calculate the new timing\n",
    "        new_timing = path_travel_time(new_path, matrix)\n",
    "        total_len_history.append(new_timing)\n",
    "\n",
    "        # Compare both timing and new timing\n",
    "        if math.exp((timing - new_timing) / temp) >= random.uniform(0, 1):\n",
    "            timing = new_timing\n",
    "            path = new_path\n",
    "\n",
    "        selected.append(timing)\n",
    "        temp = temp * (1 - cooling_rate)\n",
    "        d = d + 1\n",
    "        \n",
    "    plt.plot(total_len_history)\n",
    "    plt.plot(selected)\n",
    "    plt.show()\n",
    "\n",
    "    clock = time.time() - start_time\n",
    "    \n",
    "    print(\"Simulated Annealing algorithm : \")\n",
    "    print(\"\\tTotal time : %d hours\" % timing)\n",
    "    print(\"\\tExecution time : %d s\" %clock)\n",
    "    print(\"\\tTotal iterations : %d\" % d)\n",
    "    print(\"\\tBest path : %s\" %path)\n",
    "    \n",
    "\n",
    "\n",
    "    # returns a list with, path, timing, execution time, and all \n",
    "    return [path, timing, clock, selected, total_len_history, d]\n",
    "\n",
    "travel = 12 # time during which a truck can ride\n",
    "rest = 12 # time the truck needs to rest\n",
    "\n",
    "def total_time(path, matrix):\n",
    "    time = x = 0\n",
    "    # time remaining for a day of work\n",
    "    time_remaining = travel\n",
    "\n",
    "    # time during which the city is open to take the delivery from 8 to 20\n",
    "    # we start the day at 8\n",
    "    actual_time = 8\n",
    "    stops = []\n",
    "\n",
    "    # len - 1 ?\n",
    "    for i in range(1, len(path)):\n",
    "        # variable used to store the remaining time to wait before traveling again\n",
    "        time_remaining_to_node = matrix[x][path[i]]\n",
    "        # global time between two nodes\n",
    "        time_between_node = matrix[x][path[i]]\n",
    "\n",
    "        # true when we reach a node\n",
    "        reached_node = False\n",
    "        print('Starts at %d:00 at the node %d' % (actual_time, x))\n",
    "        actual_time = (actual_time + time_between_node) % 24\n",
    "        print('Should arrive to the node %d at %d:00 if no rest' % (path[i], actual_time))\n",
    "        while not reached_node:\n",
    "            if time_remaining_to_node <= time_remaining:\n",
    "                time_remaining = time_remaining - time_remaining_to_node\n",
    "                if time_remaining == 0:\n",
    "                    stops.append(path[i])\n",
    "                    print(\"\\tRests at the node : %d\" % path[i])\n",
    "                    time_remaining = travel\n",
    "                    time = time + rest\n",
    "                    actual_time = (actual_time + rest) % 24\n",
    "                    print('\\tRests %d hours' % rest)\n",
    "                time = time + time_between_node\n",
    "                # actual_time = actual_time + \n",
    "                reached_node = True\n",
    "                # if it's between 8AM or 8PM we can deliver, otherwise : wait\n",
    "            else:\n",
    "                # has rested between two points\n",
    "                time_remaining_to_node = time_remaining_to_node - time_remaining\n",
    "                stops.append([x, path[i]])\n",
    "                print(\"\\tRests between %d and %d for %d hours\" % (x, path[i], rest))\n",
    "\n",
    "                # rests 12 hours\n",
    "                time = time + rest\n",
    "                actual_time = (actual_time + rest) % 24\n",
    "                time_remaining = travel\n",
    "        if 8 <= actual_time <= 20:\n",
    "            # pass\n",
    "            print('\\tArrives at %d:00, so he can deliver ' % actual_time)\n",
    "        else:\n",
    "            # print('\\tNOT between 8 and 20, wait %d hour(s)' %actual_time)\n",
    "            if 0 <= actual_time < 8:\n",
    "                diff = 8 - actual_time\n",
    "                time = time + diff \n",
    "            else:\n",
    "                diff = 24 - actual_time + 8 \n",
    "                time = time + diff\n",
    "            print(\"The city %d was closed for %d hour(s)\" % (path[i], diff)) \n",
    "            actual_time = 8\n",
    "\n",
    "        x = path[i]\n",
    "    return time\n",
    "\n",
    "if __name__ == '__main__':\n",
    "\n",
    "    nb_city = input(\"Please enter the number of cities that you want : \")\n",
    "\n",
    "    # call the function that generates a symmetric matrix\n",
    "    matrix = random_symmetric_matrix(nb_city)\n",
    "    datas = simulated_annealingPolyvalent(matrix)\n",
    "    dataConstraint = total_time(datas[0], matrix)\n",
    "\n",
    "    print(\"Total time with 2 constraints : %d\" % dataConstraint)\n",
    "    print(\"VS without constraints : %d\" % datas[1])\n"
   ]
  },
  {
   "cell_type": "markdown",
   "metadata": {},
   "source": [
    "<h3>Combinaison des deux</h3>"
   ]
  },
  {
   "cell_type": "markdown",
   "metadata": {},
   "source": [
    "Nous avons pensé qu'avec les paramètres que nous avons choisi pour le recuit et l'implémentation du 2-OPT, il pourrait être judicieux d'ajouter les deux algorithmes à la suite. Le recuit est plus rapide mais le 2-OPT donne de meilleurs résultats. Voici le code correspondant aux 2-OPT ainsi qu'un main qui compare les résultats de l'exécution d'un recuit, puis d'un 2-OPT, puis des deux combinés."
   ]
  },
  {
   "cell_type": "code",
   "execution_count": 6,
   "metadata": {},
   "outputs": [
    {
     "name": "stdout",
     "output_type": "stream",
     "text": [
      "Please enter the number of cities that you want : 50\n"
     ]
    },
    {
     "data": {
      "image/png": "[encoded data removed]",
      "text/plain": [
       "<Figure size 432x288 with 1 Axes>"
      ]
     },
     "metadata": {
      "needs_background": "light"
     },
     "output_type": "display_data"
    },
    {
     "name": "stdout",
     "output_type": "stream",
     "text": [
      "Simulated Annealing algorithm : \n",
      "\tTotal time : 601 hours\n",
      "\tExecution time : 1 s\n",
      "\tTotal iterations : 1945\n",
      "\tBest path : [0, 2, 1, 3, 4, 5, 6, 7, 8, 9, 10, 11, 12, 13, 14, 15, 16, 17, 18, 19, 20, 21, 22, 23, 24, 25, 26, 27, 28, 29, 30, 31, 32, 33, 34, 35, 36, 37, 38, 39, 40, 41, 42, 43, 44, 45, 46, 47, 48, 49, 0]\n",
      "\n",
      "2-OPT algorithm:\n",
      "\tTotal time : 209 hours\n",
      "\tBest path for after 2 algorithms : [0, 47, 20, 17, 18, 38, 29, 21, 42, 11, 33, 32, 40, 30, 43, 48, 41, 9, 24, 7, 5, 4, 3, 22, 6, 36, 25, 19, 45, 39, 8, 1, 2, 46, 26, 34, 37, 13, 16, 23, 44, 28, 15, 35, 27, 12, 10, 14, 31, 49]\n",
      "\n",
      "Both algorithm combined:\n",
      "\tTotal time : 208 hours\n",
      "\tBest path for after 2 algorithms : [0, 47, 25, 6, 36, 13, 33, 11, 26, 29, 38, 18, 17, 20, 48, 43, 30, 40, 32, 2, 46, 1, 8, 39, 45, 19, 3, 22, 24, 37, 34, 41, 9, 23, 4, 5, 7, 16, 42, 21, 49, 31, 14, 10, 12, 44, 28, 15, 35, 27, 0]\n"
     ]
    }
   ],
   "source": [
    "def cost_change(cost_mat, n1, n2, n3, n4):\n",
    "    return cost_mat[n1][n3] + cost_mat[n2][n4] - cost_mat[n1][n2] - cost_mat[n3][n4]\n",
    "\n",
    "\n",
    "def two_opt(route, cost_mat):\n",
    "\n",
    "    start_time = time.time()\n",
    "    best = route\n",
    "    improved = True\n",
    "    while improved:\n",
    "        improved = False\n",
    "        for i in range(1, len(route) - 2):\n",
    "            for j in range(i + 1, len(route)):\n",
    "                if j - i == 1:\n",
    "                    continue\n",
    "                if cost_change(cost_mat, best[i - 1], best[i], best[j - 1], best[j]) < 0:\n",
    "                    best[i:j] = best[j - 1:i - 1:-1]\n",
    "                    improved = True\n",
    "        route = best\n",
    "\n",
    "    # calculate wheight of best route\n",
    "    route_wheight = x = 0\n",
    "\n",
    "    for i in range(0, len(best)):\n",
    "        route_wheight = route_wheight + cost_mat[x][best[i]]\n",
    "        x = best[i]\n",
    "\n",
    "    nb_city = len(cost_mat)\n",
    "    clock = time.time() - start_time\n",
    "\n",
    "    return [nb_city, clock, route_wheight, best]\n",
    "\n",
    "if __name__ == '__main__':\n",
    "    cityNumber = input(\"Please enter the number of cities that you want : \")\n",
    "    mat = random_symmetric_matrix(cityNumber)\n",
    "    datas = simulated_annealingPolyvalent(mat)\n",
    "    matList = list(mat)\n",
    "    \n",
    "    # with a random path\n",
    "    init_route = list(range(int(cityNumber)))\n",
    "    bad_route = two_opt(init_route, matList)\n",
    "\n",
    "    print(\"\\n2-OPT algorithm:\")\n",
    "    print(\"\\tTotal time : %d hours\" % bad_route[2])\n",
    "    print(\"\\tBest path for after 2 algorithms : %s\" % bad_route[3])\n",
    "\n",
    "    # with an optimized path\n",
    "\n",
    "    best_route = two_opt(datas[0], matList)\n",
    "\n",
    "    print(\"\\nBoth algorithm combined:\")\n",
    "    print(\"\\tTotal time : %d hours\" % best_route[2])\n",
    "    print(\"\\tBest path for after 2 algorithms : %s\" % best_route[3])"
   ]
  },
  {
   "cell_type": "markdown",
   "metadata": {},
   "source": [
    "On peut effectuer différents tests mais ce que l'on retient c'est :\n",
    "+ Le recuit (avec les paramètres choisis) a toujours le temps le plus élevé\n",
    "+ Le 2-OPT seul a toujours un meilleur temps que le recuit mais parfois un plus mauvais temps que les deux combinés.\n",
    "+ Les deux combinés ont au pire le même temps que le recuit et au mieux un meilleur temps que le 2-OPT"
   ]
  },
  {
   "cell_type": "markdown",
   "metadata": {},
   "source": [
    "<h2>Statistiques</h2>"
   ]
  },
  {
   "cell_type": "markdown",
   "metadata": {},
   "source": [
    "ne pas oublier de dire qu on a choisi une temp de 7 et rafraississement de 0.01 pk ? (car polyvalence entre petit et gros graphe)"
   ]
  },
  {
   "cell_type": "markdown",
   "metadata": {},
   "source": [
    "Nous avons généré des documents au format CSV contenant nos résultats pour l'algorithme 2-opt et le recuit. Ils contiennent les informations suivantes :\n",
    "+ Nombre de ville\n",
    "+ Temps d'exécution\n",
    "+ Poids total de la solution\n",
    "\n",
    "Ces informations vont nous permettre d'effectuer des statistiques sur nos algorithmes."
   ]
  },
  {
   "cell_type": "markdown",
   "metadata": {},
   "source": [
    "<h3>Moyenne poids total et temps d'execution</h3>"
   ]
  },
  {
   "cell_type": "code",
   "execution_count": 8,
   "metadata": {},
   "outputs": [],
   "source": [
    "import pandas\n",
    "\n",
    "opt_read = pandas.read_csv('Datas/QMG2OPT_datas.csv', sep = \",\", dtype={\"nbr\" : \"float64\", \"tps\" : \"float64\", \"pds\" : \"float64\"})\n",
    "sa_read = pandas.read_csv('Datas/QMGSA_datas.csv', sep = \",\", dtype={\"nbr\" : \"float64\", \"tps\" : \"float64\", \"pds\" : \"float64\"})\n",
    "#print(opt_read)\n",
    "def average_pds(deg, file):\n",
    "    nbr=0\n",
    "    pds=0\n",
    "    for index, row in file.iterrows():\n",
    "        if(row[0] == deg):\n",
    "            pds = pds + row[2]\n",
    "            nbr +=1\n",
    "    result = pds/nbr\n",
    "    return result\n",
    "\n",
    "def average_tps(deg, file):\n",
    "    nbr=0\n",
    "    pds=0\n",
    "    for index, row in file.iterrows():\n",
    "        if(row[0] == deg):\n",
    "            pds = pds + row[1]\n",
    "            nbr +=1\n",
    "    result = pds/nbr\n",
    "    return result\n"
   ]
  },
  {
   "cell_type": "code",
   "execution_count": 9,
   "metadata": {},
   "outputs": [
    {
     "name": "stdout",
     "output_type": "stream",
     "text": [
      "Poids moyen pour 5 villes avec 2-opt : 38.111111111111114\n",
      "Temps moyen pour 5 villes avec 2-opt : 0.00011144744025336372\n",
      "Poids moyen pour 5 villes avec recuit : 48.22222222222222\n",
      "Temps moyen pour 5 villes avec recuit : 0.07967660162183973\n"
     ]
    }
   ],
   "source": [
    "average_pds_5_opt = average_pds(5, opt_read)\n",
    "average_tps_5_opt = average_tps(5, opt_read)\n",
    "print(\"Poids moyen pour 5 villes avec 2-opt :\",average_pds_5_opt)\n",
    "print(\"Temps moyen pour 5 villes avec 2-opt :\",average_tps_5_opt)\n",
    "\n",
    "average_pds_5_sa = average_pds(5, sa_read)\n",
    "average_tps_5_sa = average_tps(5, sa_read)\n",
    "print(\"Poids moyen pour 5 villes avec recuit :\",average_pds_5_sa)\n",
    "print(\"Temps moyen pour 5 villes avec recuit :\",average_tps_5_sa)"
   ]
  },
  {
   "cell_type": "code",
   "execution_count": 10,
   "metadata": {},
   "outputs": [
    {
     "name": "stdout",
     "output_type": "stream",
     "text": [
      "Poids moyen pour 10 villes avec 2-opt : 61.22222222222222\n",
      "Temps moyen pour 10 villes avec 2-opt : 0.00022835201687282987\n",
      "Poids moyen pour 10 villes avec recuit : 74.22222222222223\n",
      "Temps moyen pour 10 villes avec recuit : 0.0878787570529514\n"
     ]
    }
   ],
   "source": [
    "average_pds_10_opt = average_pds(10, opt_read)\n",
    "average_tps_10_opt = average_tps(10, opt_read)\n",
    "print(\"Poids moyen pour 10 villes avec 2-opt :\",average_pds_10_opt)\n",
    "print(\"Temps moyen pour 10 villes avec 2-opt :\",average_tps_10_opt)\n",
    "\n",
    "average_pds_10_sa = average_pds(10, sa_read)\n",
    "average_tps_10_sa = average_tps(10, sa_read)\n",
    "print(\"Poids moyen pour 10 villes avec recuit :\",average_pds_10_sa)\n",
    "print(\"Temps moyen pour 10 villes avec recuit :\",average_tps_10_sa)"
   ]
  },
  {
   "cell_type": "code",
   "execution_count": 11,
   "metadata": {},
   "outputs": [
    {
     "name": "stdout",
     "output_type": "stream",
     "text": [
      "Poids moyen pour 50 villes avec 2-opt : 221.33333333333334\n",
      "Temps moyen pour 50 villes avec 2-opt : 0.02095815870496962\n",
      "Poids moyen pour 50 villes avec recuit : 327.77777777777777\n",
      "Temps moyen pour 50 villes avec recuit : 0.19459981388515896\n"
     ]
    }
   ],
   "source": [
    "average_pds_50_opt = average_pds(50, opt_read)\n",
    "average_tps_50_opt = average_tps(50, opt_read)\n",
    "print(\"Poids moyen pour 50 villes avec 2-opt :\",average_pds_50_opt)\n",
    "print(\"Temps moyen pour 50 villes avec 2-opt :\",average_tps_50_opt)\n",
    "\n",
    "average_pds_50_sa = average_pds(50, sa_read)\n",
    "average_tps_50_sa = average_tps(50, sa_read)\n",
    "print(\"Poids moyen pour 50 villes avec recuit :\",average_pds_50_sa)\n",
    "print(\"Temps moyen pour 50 villes avec recuit :\",average_tps_50_sa)"
   ]
  },
  {
   "cell_type": "code",
   "execution_count": 12,
   "metadata": {},
   "outputs": [
    {
     "name": "stdout",
     "output_type": "stream",
     "text": [
      "Poids moyen pour 100 villes avec 2-opt : 362.1111111111111\n",
      "Temps moyen pour 100 villes avec 2-opt : 0.0852163897620307\n",
      "Poids moyen pour 100 villes avec recuit : 659.0\n",
      "Temps moyen pour 100 villes avec recuit : 0.3030848238203261\n"
     ]
    }
   ],
   "source": [
    "average_pds_100_opt = average_pds(100, opt_read)\n",
    "average_tps_100_opt = average_tps(100, opt_read)\n",
    "print(\"Poids moyen pour 100 villes avec 2-opt :\",average_pds_100_opt)\n",
    "print(\"Temps moyen pour 100 villes avec 2-opt :\",average_tps_100_opt)\n",
    "\n",
    "average_pds_100_sa = average_pds(100, sa_read)\n",
    "average_tps_100_sa = average_tps(100, sa_read)\n",
    "print(\"Poids moyen pour 100 villes avec recuit :\",average_pds_100_sa)\n",
    "print(\"Temps moyen pour 100 villes avec recuit :\",average_tps_100_sa)"
   ]
  },
  {
   "cell_type": "code",
   "execution_count": 13,
   "metadata": {},
   "outputs": [
    {
     "name": "stdout",
     "output_type": "stream",
     "text": [
      "Poids moyen pour 500 villes avec 2-opt : 1351.6666666666667\n",
      "Temps moyen pour 500 villes avec 2-opt : 2.968409538269043\n",
      "Poids moyen pour 500 villes avec recuit : 3982.3333333333335\n",
      "Temps moyen pour 500 villes avec recuit : 0.9384040832519531\n"
     ]
    }
   ],
   "source": [
    "average_pds_500_opt = average_pds(500, opt_read)\n",
    "average_tps_500_opt = average_tps(500, opt_read)\n",
    "print(\"Poids moyen pour 500 villes avec 2-opt :\",average_pds_500_opt)\n",
    "print(\"Temps moyen pour 500 villes avec 2-opt :\",average_tps_500_opt)\n",
    "\n",
    "average_pds_500_sa = average_pds(500, sa_read)\n",
    "average_tps_500_sa = average_tps(500, sa_read)\n",
    "print(\"Poids moyen pour 500 villes avec recuit :\",average_pds_500_sa)\n",
    "print(\"Temps moyen pour 500 villes avec recuit :\",average_tps_500_sa)"
   ]
  },
  {
   "cell_type": "code",
   "execution_count": 14,
   "metadata": {},
   "outputs": [
    {
     "name": "stdout",
     "output_type": "stream",
     "text": [
      "Poids moyen pour 1000 villes avec 2-opt : 2467.3333333333335\n",
      "Temps moyen pour 1000 villes avec 2-opt : 14.055223332511055\n",
      "Poids moyen pour 1000 villes avec recuit : 8740.0\n",
      "Temps moyen pour 1000 villes avec recuit : 1.8529801898532443\n"
     ]
    }
   ],
   "source": [
    "average_pds_1000_opt = average_pds(1000, opt_read)\n",
    "average_tps_1000_opt = average_tps(1000, opt_read)\n",
    "print(\"Poids moyen pour 1000 villes avec 2-opt :\",average_pds_1000_opt)\n",
    "print(\"Temps moyen pour 1000 villes avec 2-opt :\",average_tps_1000_opt)\n",
    "\n",
    "average_pds_1000_sa = average_pds(1000, sa_read)\n",
    "average_tps_1000_sa = average_tps(1000, sa_read)\n",
    "print(\"Poids moyen pour 1000 villes avec recuit :\",average_pds_1000_sa)\n",
    "print(\"Temps moyen pour 1000 villes avec recuit :\",average_tps_1000_sa)"
   ]
  },
  {
   "cell_type": "markdown",
   "metadata": {},
   "source": [
    "Après la comparaison des résultats de ces deux algorithmes on remarque donc que malgré nos ressentis concernant le 2-opt n'étant pas optimal pour les petites matrices, on peut constater qu'avec les paramètres choisis pour notre recuit simulé, le 2-opt reste la meilleure option si on veut un meilleur résultat et le recuit plus rapide mais avec un résultat moins proche de là l'optimum global."
   ]
  },
  {
   "cell_type": "code",
   "execution_count": null,
   "metadata": {},
   "outputs": [],
   "source": []
  }
 ],
 "metadata": {
  "kernelspec": {
   "display_name": "Python 3",
   "language": "python",
   "name": "python3"
  },
  "language_info": {
   "codemirror_mode": {
    "name": "ipython",
    "version": 3
   },
   "file_extension": ".py",
   "mimetype": "text/x-python",
   "name": "python",
   "nbconvert_exporter": "python",
   "pygments_lexer": "ipython3",
   "version": "3.6.8"
  }
 },
 "nbformat": 4,
 "nbformat_minor": 2
}
