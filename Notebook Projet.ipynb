{
 "cells": [
  {
   "cell_type": "markdown",
   "metadata": {},
   "source": [
    "<h1><center>Projet Data</center></h1>\n"
   ]
  },
  {
   "cell_type": "markdown",
   "metadata": {},
   "source": [
    "<h2>Sommaire</h2>"
   ]
  },
  {
   "cell_type": "markdown",
   "metadata": {},
   "source": [
    "1. [Introduction](#Introduction)<br>\n",
    "2. [Contexte](#Contexte)<br>\n",
    "3. [VRP : Problème du voyageur de commerce](#VRP-:-Problème-du-voyageur-de-commerce)<br>\n",
    "4. [Algorithme heuristique / metaheuristique](#Algorithme-heuristique-/-metaheuristique)<br>\n",
    "5. [Réalisation](#Réalisation)<br>\n",
    "    a. [Génération aléatoire d'un graphe](#Génération-aléatoire-d'un-graphe)<br>\n",
    "    b. [Algorithme du plus court chemin](#Algorithme-du-plus-court-chemin)<br>\n",
    "    c. [Statistique](#Statistique)<br>"
   ]
  },
  {
   "cell_type": "markdown",
   "metadata": {},
   "source": [
    "<h2>Introduction</h2>"
   ]
  },
  {
   "cell_type": "markdown",
   "metadata": {},
   "source": [
    "<div style=\"text-align: justify\">\n",
    "La réduction de la consommation d'énergie est devenue un objectif important des pays énergivores vers la fin du XXeme siècle. Ces pays en ont pris conscience après le <a href=\"https://fr.wikipedia.org/wiki/Premier_choc_p%C3%A9trolier\">choc pétrolier de 1973</a> qui fait référence à la pénuerie de pétrole qu'a connue les Etats Unies. Puis plus récemment, dans les années 90, avec les premières études sur le réchauffement climatique du GIEC (groupe d'experts intergouvernemental sur l'évolution du climat) qui établie une augmentation non naturelle de la température.\n",
    "<br>\n",
    "Ce n'est qu'après 6ans de travaux menés par 2500 scientifiques que le GIEC a établie la résponsabilité humaine du rechauffement climatique dans son rapport intitulé \"<a href=\"https://www.ipcc.ch/site/assets/uploads/2018/02/ar4_syr_fr.pdf\">Changement climatique 2007 : Les bases scinetifiques physiques\"</a>. Ce rapport explique pour la première fois que le réchauffement globale de la planète est en partie du aux émissions de gaz à effet de serre qui s'est considérablement augmenté depuis le XIXe siècle et la révolution industrielle.\n",
    "<br>\n",
    "<img src=\"https://www.la-viande.fr/sites/default/files/images/environnement-ethique/atlas/chapitres/enjeux-environnementaux-coeur-pratiques-filiere/atlas-c04-p-13-emissions-de-gaz-a-effet-de-serre-par-secteur-en-france.jpg\"> \n",
    "<p style=\"text-align : center\"><i>Emission de gaz à effet de serre par secteur en France en 2014 (source : Citepa, 2014) </i></p>\n",
    "\n",
    "D'après ce graphique de Citepa, représentant les émissions de gaz à effet de serre par secteur en France en 2014, nous pouvons remarquer que le secteur du trasport est le secteur emmettant le plus de gaz.\n",
    "De ce fait il est question aujourd'hui de réduire l'utilisation des transports, de passer à une énergie plus \"propre\" ou encore d'optimiser la façon dont nous utilisons nos moyens de locomotion.\n",
    "\n",
    "</div>"
   ]
  },
  {
   "cell_type": "markdown",
   "metadata": {},
   "source": [
    "<h2>Contexte</h2>"
   ]
  },
  {
   "cell_type": "markdown",
   "metadata": {},
   "source": [
    "<div style=\"text-align: justify\">\n",
    "C'est dans ce contexte d'optimisation de l'utilisation de nos transport qu'interviens notre étude.\n",
    "Notre but est de générer une tournée de livraison (problème du VRP). Le problème algorithmique consiste donc à calculer sur un réseau routier une tournée permettant de relier entre elles un sous-ensemble de villes, puis de revenir à son point de départ, de manière à minimiser la distance totale parcourue. </div>\n",
    "\n",
    "3 aspects nous sont demandés :\n",
    "+ Génération aléatoire de graphique.\n",
    "+ Algorithme du plus cours chemin optimisé au probleme.\n",
    "+ Statistiques descriptives, voire prédictives, du comportement de l'algorithme, mises en regard avec l’industrie.\n",
    "\n",
    "<div style=\"text-align: justify\">\n",
    "En plus d'une solution simple, c'est à dire plus court chemin sur x villes, nous devons choisir des contraintes au problème. </div>\n",
    "\n",
    "Nous avons retenue 2 contraintes :\n",
    "+ Gestion d'une fenêtre horaire de livraison des villes.\n",
    "+ Gestion d'une fenêtre horaire de livraison du camion.\n",
    "\n"
   ]
  },
  {
   "cell_type": "markdown",
   "metadata": {},
   "source": [
    "<h2>VRP : Problème du voyageur de commerce</h2>"
   ]
  },
  {
   "cell_type": "markdown",
   "metadata": {},
   "source": [
    "<div style=\"text-align: justify\">\n",
    "Le problème du voyageur du commerce est un problème d'optimisation qui, parmis une liste de ville et de distance entre chaque ville, va déterminer le plus court chemin.</div>"
   ]
  },
  {
   "cell_type": "markdown",
   "metadata": {},
   "source": [
    "![cps](https://media1.tenor.com/images/56a813b10c92b01290bec5296e67ef8d/tenor.gif?itemid=11966562 \"c'est pas sorcier\")"
   ]
  },
  {
   "cell_type": "markdown",
   "metadata": {},
   "source": [
    "<div style=\"text-align: justify\">\n",
    "Ce plus court chemin doit passer par chaque ville une seule fois seulement et revenir à la ville de départ.\n",
    "C'est un problème algorithmique célèbre qui est en perpétuel recherche et qui est souvent présent en introduction à l'algorithmie car aujourd'hui on ne connait pas un algorithme pouvant donner une solution exacte rapidement.</div>"
   ]
  },
  {
   "cell_type": "markdown",
   "metadata": {},
   "source": [
    "> **Exemple  :** <br>\n",
    "Prenons une liste de ville A, B, C D distante entre elles suivant le schéma ci-dessous :\n",
    "![Instance](https://upload.wikimedia.org/wikipedia/commons/thumb/1/19/Tsp_instance.png/181px-Tsp_instance.png \"carte\")\n",
    "<br>\n",
    "Effectuons le chemin ABCDA.\n",
    "![Dumb](https://upload.wikimedia.org/wikipedia/commons/thumb/2/26/Tsp_solution_debile.png/185px-Tsp_solution_debile.png \"dumb solution\")\n",
    "<br>\n",
    "Le chemin ABCDA à une longueur de :\n",
    "[AB]+[BC]+[CD]+[DA] = 4+2+5+3 = 14km\n",
    "<br>\n",
    "Alors qu'il existe un chemin plus courte pour partir de A et revenir à A. Ce chemin est ACBDA.\n",
    "![opt](https://upload.wikimedia.org/wikipedia/commons/thumb/4/44/Tsp_opt.png/186px-Tsp_opt.png \"chemin optimisé\")\n",
    "<br>\n",
    "Si on calcul sa longueur nous avons donc : [AC]+[CB]+[BD]+[DA] = 3+1+2+1 = 7km"
   ]
  },
  {
   "cell_type": "markdown",
   "metadata": {},
   "source": [
    "Nous allons donc parler de graphe et plus particulièrement de graphe complet. <br>\n",
    "Un graph complet est un graphe dont toute les sommets (villes) sont relié entre eux par un segment (route)."
   ]
  },
  {
   "cell_type": "markdown",
   "metadata": {},
   "source": [
    "> **Exemple :**<br>\n",
    "Exemples de graphes complets <br>\n",
    "![K2](https://upload.wikimedia.org/wikipedia/commons/thumb/9/96/Complete_graph_K2.svg/120px-Complete_graph_K2.svg.png \"K2\")\n",
    "![K3](https://upload.wikimedia.org/wikipedia/commons/thumb/5/5a/Complete_graph_K3.svg/120px-Complete_graph_K3.svg.png \"K3\")\n",
    "![K4](https://upload.wikimedia.org/wikipedia/commons/thumb/5/59/Complete_graph_K4.svg/120px-Complete_graph_K4.svg.png \"K4\")\n",
    "![K5](https://upload.wikimedia.org/wikipedia/commons/thumb/c/cf/Complete_graph_K5.svg/120px-Complete_graph_K5.svg.png \"K5\")\n",
    "![K8](https://upload.wikimedia.org/wikipedia/commons/thumb/7/73/Complete_graph_K8.svg/120px-Complete_graph_K8.svg.png \"K8\")\n",
    "![K12](https://upload.wikimedia.org/wikipedia/commons/thumb/9/9b/11-simplex_graph.svg/120px-11-simplex_graph.svg.png \"K12\")"
   ]
  },
  {
   "cell_type": "markdown",
   "metadata": {},
   "source": [
    "<h2>Algorithme heuristique / metaheuristique</h2>"
   ]
  },
  {
   "cell_type": "markdown",
   "metadata": {},
   "source": [
    "Un algorithme heuristique est un algorithme utilisant une méthode de calcule qui fournit rapidement une solution réalisable mais pas forcément optimal ou exacte pour un problème de compléxité difficile.\n",
    "\n",
    "> **Exemple :** Méthode de Thomson, méthode de Van Breedam, Méthode de Kinderwater...\n",
    "\n",
    "![heuristic](https://optimization.mccormick.northwestern.edu/images/2/23/Nearestneighbor.gif \"heuristic\")\n",
    "<br>\n",
    "Voici comment fonctionne un algorithme heuristic. Il va essayer toutes les routes en partant du point de départ jusqu'à trouver un chemin le plus court. Il va prendre les arrètes les plus courtes à chaque fois, même si cela pourrait lui allonger le chemin finale.\n",
    "\n",
    "Pour ajouter ce coté intelligence aux algorithme pour qu'il choississent le chemin la plus optimisé, les métaheuristiques existent.\n",
    "\n",
    "Un algorithme métaheuristique est un algorithme itératif qui guide un algorithme heuristique. Des stratégies d’apprentissage sont utilisées pour structurer des renseignements pour trouver des solutions efficaces presque optimales.\n",
    "\n",
    "> **Exemple :** Algorithme de recuit simulé, algorithme 2-opt, algorithme de la colonie de fourmilles...\n",
    "\n",
    "![metaheuristic](https://raw.githubusercontent.com/JeromeBau/TravelingTouristProblem/master/ttp_animation.gif \"metaheuristic\")\n",
    "<br>\n",
    "Voici le fonctionnement d'un algorithme metaheuristique, il ne va pas prendre la route la moins longue à chaque fois, il va faire en sorte d'optimiser le trajet pour que la somme totale de la longueur du chemin à la fin soit la moins haute possible."
   ]
  },
  {
   "cell_type": "markdown",
   "metadata": {},
   "source": [
    "<h2>Réalisation</h2>"
   ]
  },
  {
   "cell_type": "markdown",
   "metadata": {},
   "source": [
    "<h3>Génération aléatoire d'un graphe</h3>"
   ]
  },
  {
   "cell_type": "markdown",
   "metadata": {},
   "source": [
    "Le but de ce problème est d'avoir un algorithme traitant le problème du vrp pour n'importe quel graphe complet. Nous avons donc développer un outil permettant de générer une matrice, nous permettant de représenter ce graphe."
   ]
  },
  {
   "cell_type": "code",
   "execution_count": 60,
   "metadata": {},
   "outputs": [
    {
     "name": "stdout",
     "output_type": "stream",
     "text": [
      "[[ 0 12 14  7]\n",
      " [12  0 13  9]\n",
      " [14 13  0  8]\n",
      " [ 7  9  8  0]]\n"
     ]
    }
   ],
   "source": [
    "import numpy as np\n",
    "import random\n",
    "\n",
    "n=4 # Nombre de ville\n",
    "maxTime = 12 #pondération maximale entre 2 villes\n",
    "\n",
    "cost_mat = np.random.randint(low=1, high=maxTime, size=(n, n)) #Création et remplissage moitié de la matrice\n",
    "cost_mat += cost_mat.T #Remplissage de l'autre moitié\n",
    "np.fill_diagonal(cost_mat, 0) # Diagonale à 0\n",
    "\n",
    "print(cost_mat)"
   ]
  },
  {
   "cell_type": "markdown",
   "metadata": {},
   "source": [
    "Si on représente sous forme graphique la matrice ci dessus voici ce que ça donne"
   ]
  },
  {
   "cell_type": "code",
   "execution_count": 63,
   "metadata": {
    "scrolled": true
   },
   "outputs": [
    {
     "data": {
      "text/plain": [
       "(-1.143463656543773, 1.143463656543773, -1.161279123277387, 1.1612791232773871)"
      ]
     },
     "execution_count": 63,
     "metadata": {},
     "output_type": "execute_result"
    },
    {
     "data": {
      "image/png": "[encoded data removed]",
      "text/plain": [
       "<Figure size 432x288 with 1 Axes>"
      ]
     },
     "metadata": {},
     "output_type": "display_data"
    }
   ],
   "source": [
    "import matplotlib.pyplot as plt\n",
    "import networkx as nx\n",
    "\n",
    "G = nx.Graph()\n",
    "\n",
    "G.add_edge('0', '1', time=cost_mat.item(4))\n",
    "G.add_edge('0', '2', time=cost_mat.item(8))\n",
    "G.add_edge('0', '3', time=cost_mat.item(12))\n",
    "G.add_edge('1', '2', time=cost_mat.item(9))\n",
    "G.add_edge('1', '3', time=cost_mat.item(13))\n",
    "G.add_edge('2', '3', time=cost_mat.item(14))\n",
    "\n",
    "\n",
    "pos = nx.spring_layout(G)\n",
    "\n",
    "# nodes\n",
    "nx.draw_networkx_nodes(G, pos, node_size=700)\n",
    "\n",
    "# edges\n",
    "nx.draw_networkx_edges(G, pos)\n",
    "nx.draw_networkx_edge_labels(G, pos)\n",
    "\n",
    "# labels\n",
    "nx.draw_networkx_labels(G, pos)\n",
    "\n",
    "plt.axis('off')"
   ]
  },
  {
   "cell_type": "markdown",
   "metadata": {},
   "source": [
    "Nous avons donc un graphe de 4 sommets et 6 arretes pondérées."
   ]
  },
  {
   "cell_type": "markdown",
   "metadata": {},
   "source": [
    "<h3>Algorithme du plus court chemin</h3>"
   ]
  },
  {
   "cell_type": "markdown",
   "metadata": {},
   "source": [
    "Nous sommes partie dans un premier temps sur un algorithme 2-opt. > A EXPLIQUER <br>\n",
    "Face à la non accuracy pour un petit graphe nous sommes partie sur un recuis simulé. > A EXPLIQUER"
   ]
  },
  {
   "cell_type": "code",
   "execution_count": 74,
   "metadata": {},
   "outputs": [
    {
     "name": "stdout",
     "output_type": "stream",
     "text": [
      "Total iterations : 69\n",
      "Temps d'execution : 0 s\n",
      "Best path :  [0, 1, 2, 3, 0]\n",
      "Temps pour parcourir le chemin : 40 h\n"
     ]
    },
    {
     "data": {
      "image/png": "[encoded data removed]",
      "text/plain": [
       "<Figure size 432x288 with 1 Axes>"
      ]
     },
     "metadata": {
      "needs_background": "light"
     },
     "output_type": "display_data"
    }
   ],
   "source": [
    "import time \n",
    "import random\n",
    "import copy\n",
    "import math\n",
    "import matplotlib.pyplot as plt\n",
    "import csv\n",
    "\n",
    "# Calculates the travel time for a given path\n",
    "def path_travel_time(path, matrix):\n",
    "    time = x = 0\n",
    "\n",
    "    for i in range(0, len(path)):\n",
    "        time = time + matrix[x][path[i]]\n",
    "        x = path[i]\n",
    "\n",
    "    return time\n",
    "\n",
    "\n",
    "# Randomly swap 2 elements\n",
    "def swap_value(path):\n",
    "    # generates 2 different random values\n",
    "    v0, v1 = random.sample(range(0, n - 1), 2)\n",
    "\n",
    "    # swap 2 values\n",
    "    temp = path[v1]\n",
    "    path[v1] = path[v0]\n",
    "    path[v0] = temp\n",
    "\n",
    "    return path\n",
    "\n",
    "# Shortest path (only one time each node)\n",
    "def simulated_annealing(matrix):\n",
    "    clock = time.clock()\n",
    "\n",
    "    # value too high = too many iterations (diversification)\n",
    "    # for big matrice, raise the temp\n",
    "    temp = 2\n",
    "\n",
    "    # intensification\n",
    "    cooling_rate = 0.01\n",
    "\n",
    "    # nb iteration\n",
    "    d = 0\n",
    "\n",
    "    # nb_city = the matrix dimensions\n",
    "    nb_city = len(matrix)\n",
    "\n",
    "    # all total time changes during the process\n",
    "    total_len_history = []\n",
    "\n",
    "    # total path\n",
    "    selected = []\n",
    "\n",
    "    # TOPRINT\n",
    "    path = []\n",
    "\n",
    "    # create an initial_route\n",
    "    for i in range(0, nb_city):\n",
    "        path.append(i)\n",
    "    path.append(0)\n",
    "\n",
    "    # Calculate timing for the first path\n",
    "    timing = path_travel_time(path, matrix)\n",
    "    total_len_history.append(timing)\n",
    "    selected.append(timing)\n",
    "\n",
    "    while temp > 1:\n",
    "\n",
    "        # randomly swap 2 cities\n",
    "        new_path = swap_value(copy.copy(path))\n",
    "\n",
    "        # Calculate the new timing\n",
    "        new_timing = path_travel_time(new_path, matrix)\n",
    "        total_len_history.append(new_timing)\n",
    "\n",
    "        # Compare both timing and new timing\n",
    "        if math.exp((timing - new_timing) / temp) >= random.uniform(0, 1):\n",
    "            timing = new_timing\n",
    "            path = new_path\n",
    "\n",
    "        selected.append(timing)\n",
    "        temp = temp * (1 - cooling_rate)\n",
    "        d = d + 1\n",
    "\n",
    "    print(\"Total iterations : %d\" % d )\n",
    "    print(\"Temps d'execution : %d s\" % (time.clock() - clock))\n",
    "    \n",
    "    print(\"Best path : \", path)\n",
    "    print(\"Temps pour parcourir le chemin : %d h\" % timing )\n",
    "    \n",
    "    plt.plot(total_len_history)\n",
    "    plt.plot(selected)\n",
    "    plt.show()\n",
    "\n",
    "simulated_annealing(cost_mat)"
   ]
  },
  {
   "cell_type": "markdown",
   "metadata": {},
   "source": [
    "L'algorithme effectue 69 iterations pour trouver le résultat.\n",
    "Le graphique nous montre le poids du chemin testé et retenue tout au long de l'execution de l'algorithme."
   ]
  },
  {
   "cell_type": "markdown",
   "metadata": {},
   "source": [
    "<h2>Statistiques</h2>"
   ]
  },
  {
   "cell_type": "markdown",
   "metadata": {},
   "source": [
    "Nous avons généré des documents au format CSV contenant nos réultats sur la génération de nos graphes. Ils contiennent les informations suivantes :\n",
    "+ Nombre de ville\n",
    "+ Temps de génération\n",
    "+ Poids totale matrice\n",
    "<br>\n",
    "Nous allons faire une moyenne des temps de génération par nombre de ville qui nous indiquera une tendance de temps de génération pour ces villes.<br>\n",
    "Même procéder pour le poids totale des matrices."
   ]
  },
  {
   "cell_type": "markdown",
   "metadata": {},
   "source": [
    "Nous avons généré des documents au format CSV contenant nos réultats pour l'algorithme 2-opt et le recuis. Ils contiennent les information suivantes :\n",
    "+ Nombre de ville\n",
    "+ Temps d'éxécution\n",
    "+ Nombre d'itérations\n",
    "+ Solution"
   ]
  },
  {
   "cell_type": "code",
   "execution_count": null,
   "metadata": {},
   "outputs": [],
   "source": []
  }
 ],
 "metadata": {
  "kernelspec": {
   "display_name": "Python 3",
   "language": "python",
   "name": "python3"
  },
  "language_info": {
   "codemirror_mode": {
    "name": "ipython",
    "version": 3
   },
   "file_extension": ".py",
   "mimetype": "text/x-python",
   "name": "python",
   "nbconvert_exporter": "python",
   "pygments_lexer": "ipython3",
   "version": "3.6.8"
  }
 },
 "nbformat": 4,
 "nbformat_minor": 2
}
